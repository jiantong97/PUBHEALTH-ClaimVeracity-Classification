{
 "cells": [
  {
   "cell_type": "code",
   "execution_count": 1,
   "id": "8d034fa2",
   "metadata": {},
   "outputs": [],
   "source": [
    "import pandas as pd"
   ]
  },
  {
   "cell_type": "code",
   "execution_count": 2,
   "id": "7f29cfb0",
   "metadata": {},
   "outputs": [],
   "source": [
    "train = pd.read_csv('../Data/train.tsv', sep='\\t')\n",
    "dev = pd.read_csv('../Data/dev.tsv', sep='\\t')\n",
    "test = pd.read_csv('../Data/test.tsv', sep='\\t',index_col=0)"
   ]
  },
  {
   "cell_type": "code",
   "execution_count": 3,
   "id": "f8c58993",
   "metadata": {},
   "outputs": [
    {
     "data": {
      "text/html": [
       "<div>\n",
       "<style scoped>\n",
       "    .dataframe tbody tr th:only-of-type {\n",
       "        vertical-align: middle;\n",
       "    }\n",
       "\n",
       "    .dataframe tbody tr th {\n",
       "        vertical-align: top;\n",
       "    }\n",
       "\n",
       "    .dataframe thead th {\n",
       "        text-align: right;\n",
       "    }\n",
       "</style>\n",
       "<table border=\"1\" class=\"dataframe\">\n",
       "  <thead>\n",
       "    <tr style=\"text-align: right;\">\n",
       "      <th></th>\n",
       "      <th>claim_id</th>\n",
       "      <th>claim</th>\n",
       "      <th>date_published</th>\n",
       "      <th>explanation</th>\n",
       "      <th>fact_checkers</th>\n",
       "      <th>main_text</th>\n",
       "      <th>sources</th>\n",
       "      <th>label</th>\n",
       "      <th>subjects</th>\n",
       "    </tr>\n",
       "  </thead>\n",
       "  <tbody>\n",
       "    <tr>\n",
       "      <th>0</th>\n",
       "      <td>15661</td>\n",
       "      <td>\"The money the Clinton Foundation took from fr...</td>\n",
       "      <td>April 26, 2015</td>\n",
       "      <td>\"Gingrich said the Clinton Foundation \"\"took m...</td>\n",
       "      <td>Katie Sanders</td>\n",
       "      <td>\"Hillary Clinton is in the political crosshair...</td>\n",
       "      <td>https://www.wsj.com/articles/clinton-foundatio...</td>\n",
       "      <td>false</td>\n",
       "      <td>Foreign Policy, PunditFact, Newt Gingrich,</td>\n",
       "    </tr>\n",
       "    <tr>\n",
       "      <th>1</th>\n",
       "      <td>9893</td>\n",
       "      <td>Annual Mammograms May Have More False-Positives</td>\n",
       "      <td>October 18, 2011</td>\n",
       "      <td>This article reports on the results of a study...</td>\n",
       "      <td></td>\n",
       "      <td>While the financial costs of screening mammogr...</td>\n",
       "      <td></td>\n",
       "      <td>mixture</td>\n",
       "      <td>Screening,WebMD,women's health</td>\n",
       "    </tr>\n",
       "    <tr>\n",
       "      <th>2</th>\n",
       "      <td>11358</td>\n",
       "      <td>SBRT Offers Prostate Cancer Patients High Canc...</td>\n",
       "      <td>September 28, 2016</td>\n",
       "      <td>This news release describes five-year outcomes...</td>\n",
       "      <td>Mary Chris Jaklevic,Steven J. Atlas, MD, MPH,K...</td>\n",
       "      <td>The news release quotes lead researcher Robert...</td>\n",
       "      <td>https://www.healthnewsreview.org/wp-content/up...</td>\n",
       "      <td>mixture</td>\n",
       "      <td>Association/Society news release,Cancer</td>\n",
       "    </tr>\n",
       "    <tr>\n",
       "      <th>3</th>\n",
       "      <td>10166</td>\n",
       "      <td>Study: Vaccine for Breast, Ovarian Cancer Has ...</td>\n",
       "      <td>November 8, 2011</td>\n",
       "      <td>While the story does many things well, the ove...</td>\n",
       "      <td></td>\n",
       "      <td>The story does discuss costs, but the framing ...</td>\n",
       "      <td>http://clinicaltrials.gov/ct2/results?term=can...</td>\n",
       "      <td>true</td>\n",
       "      <td>Cancer,WebMD,women's health</td>\n",
       "    </tr>\n",
       "    <tr>\n",
       "      <th>4</th>\n",
       "      <td>11276</td>\n",
       "      <td>Some appendicitis cases may not require ’emerg...</td>\n",
       "      <td>September 20, 2010</td>\n",
       "      <td>We really don’t understand why only a handful ...</td>\n",
       "      <td></td>\n",
       "      <td>\"Although the story didn’t cite the cost of ap...</td>\n",
       "      <td></td>\n",
       "      <td>true</td>\n",
       "      <td></td>\n",
       "    </tr>\n",
       "  </tbody>\n",
       "</table>\n",
       "</div>"
      ],
      "text/plain": [
       "  claim_id                                              claim  \\\n",
       "0    15661  \"The money the Clinton Foundation took from fr...   \n",
       "1     9893    Annual Mammograms May Have More False-Positives   \n",
       "2    11358  SBRT Offers Prostate Cancer Patients High Canc...   \n",
       "3    10166  Study: Vaccine for Breast, Ovarian Cancer Has ...   \n",
       "4    11276  Some appendicitis cases may not require ’emerg...   \n",
       "\n",
       "       date_published                                        explanation  \\\n",
       "0      April 26, 2015  \"Gingrich said the Clinton Foundation \"\"took m...   \n",
       "1    October 18, 2011  This article reports on the results of a study...   \n",
       "2  September 28, 2016  This news release describes five-year outcomes...   \n",
       "3    November 8, 2011  While the story does many things well, the ove...   \n",
       "4  September 20, 2010  We really don’t understand why only a handful ...   \n",
       "\n",
       "                                       fact_checkers  \\\n",
       "0                                      Katie Sanders   \n",
       "1                                                      \n",
       "2  Mary Chris Jaklevic,Steven J. Atlas, MD, MPH,K...   \n",
       "3                                                      \n",
       "4                                                      \n",
       "\n",
       "                                           main_text  \\\n",
       "0  \"Hillary Clinton is in the political crosshair...   \n",
       "1  While the financial costs of screening mammogr...   \n",
       "2  The news release quotes lead researcher Robert...   \n",
       "3  The story does discuss costs, but the framing ...   \n",
       "4  \"Although the story didn’t cite the cost of ap...   \n",
       "\n",
       "                                             sources    label  \\\n",
       "0  https://www.wsj.com/articles/clinton-foundatio...    false   \n",
       "1                                                     mixture   \n",
       "2  https://www.healthnewsreview.org/wp-content/up...  mixture   \n",
       "3  http://clinicaltrials.gov/ct2/results?term=can...     true   \n",
       "4                                                        true   \n",
       "\n",
       "                                      subjects  \n",
       "0  Foreign Policy, PunditFact, Newt Gingrich,   \n",
       "1               Screening,WebMD,women's health  \n",
       "2      Association/Society news release,Cancer  \n",
       "3                  Cancer,WebMD,women's health  \n",
       "4                                               "
      ]
     },
     "execution_count": 3,
     "metadata": {},
     "output_type": "execute_result"
    }
   ],
   "source": [
    "train.head()"
   ]
  },
  {
   "cell_type": "code",
   "execution_count": 4,
   "id": "f538f27c",
   "metadata": {},
   "outputs": [],
   "source": [
    "#get columns needed for modeling\n",
    "train_df = train[['label', 'claim','main_text']]\n",
    "dev_df = dev[['label', 'claim','main_text']]\n",
    "test_df = test[['label', 'claim','main_text']]"
   ]
  },
  {
   "cell_type": "code",
   "execution_count": 5,
   "id": "ca4a89a6",
   "metadata": {},
   "outputs": [
    {
     "data": {
      "text/html": [
       "<div>\n",
       "<style scoped>\n",
       "    .dataframe tbody tr th:only-of-type {\n",
       "        vertical-align: middle;\n",
       "    }\n",
       "\n",
       "    .dataframe tbody tr th {\n",
       "        vertical-align: top;\n",
       "    }\n",
       "\n",
       "    .dataframe thead th {\n",
       "        text-align: right;\n",
       "    }\n",
       "</style>\n",
       "<table border=\"1\" class=\"dataframe\">\n",
       "  <thead>\n",
       "    <tr style=\"text-align: right;\">\n",
       "      <th></th>\n",
       "      <th>label</th>\n",
       "      <th>claim</th>\n",
       "      <th>main_text</th>\n",
       "    </tr>\n",
       "  </thead>\n",
       "  <tbody>\n",
       "    <tr>\n",
       "      <th>count</th>\n",
       "      <td>9805</td>\n",
       "      <td>9824</td>\n",
       "      <td>9806</td>\n",
       "    </tr>\n",
       "    <tr>\n",
       "      <th>unique</th>\n",
       "      <td>5</td>\n",
       "      <td>9824</td>\n",
       "      <td>9589</td>\n",
       "    </tr>\n",
       "    <tr>\n",
       "      <th>top</th>\n",
       "      <td>true</td>\n",
       "      <td>Designer Tommy Hilfiger stated that blacks and...</td>\n",
       "      <td>Doctors in India have been successful in treat...</td>\n",
       "    </tr>\n",
       "    <tr>\n",
       "      <th>freq</th>\n",
       "      <td>5078</td>\n",
       "      <td>1</td>\n",
       "      <td>12</td>\n",
       "    </tr>\n",
       "  </tbody>\n",
       "</table>\n",
       "</div>"
      ],
      "text/plain": [
       "       label                                              claim  \\\n",
       "count   9805                                               9824   \n",
       "unique     5                                               9824   \n",
       "top     true  Designer Tommy Hilfiger stated that blacks and...   \n",
       "freq    5078                                                  1   \n",
       "\n",
       "                                                main_text  \n",
       "count                                                9806  \n",
       "unique                                               9589  \n",
       "top     Doctors in India have been successful in treat...  \n",
       "freq                                                   12  "
      ]
     },
     "execution_count": 5,
     "metadata": {},
     "output_type": "execute_result"
    }
   ],
   "source": [
    "train_df.describe()"
   ]
  },
  {
   "cell_type": "code",
   "execution_count": 6,
   "id": "6cbb4a62",
   "metadata": {},
   "outputs": [
    {
     "data": {
      "text/html": [
       "<div>\n",
       "<style scoped>\n",
       "    .dataframe tbody tr th:only-of-type {\n",
       "        vertical-align: middle;\n",
       "    }\n",
       "\n",
       "    .dataframe tbody tr th {\n",
       "        vertical-align: top;\n",
       "    }\n",
       "\n",
       "    .dataframe thead th {\n",
       "        text-align: right;\n",
       "    }\n",
       "</style>\n",
       "<table border=\"1\" class=\"dataframe\">\n",
       "  <thead>\n",
       "    <tr style=\"text-align: right;\">\n",
       "      <th></th>\n",
       "      <th>label</th>\n",
       "      <th>claim</th>\n",
       "      <th>main_text</th>\n",
       "    </tr>\n",
       "  </thead>\n",
       "  <tbody>\n",
       "    <tr>\n",
       "      <th>count</th>\n",
       "      <td>1215</td>\n",
       "      <td>1219</td>\n",
       "      <td>1217</td>\n",
       "    </tr>\n",
       "    <tr>\n",
       "      <th>unique</th>\n",
       "      <td>5</td>\n",
       "      <td>1219</td>\n",
       "      <td>1212</td>\n",
       "    </tr>\n",
       "    <tr>\n",
       "      <th>top</th>\n",
       "      <td>true</td>\n",
       "      <td>Georgia could be first state to test Trump hea...</td>\n",
       "      <td>Beta-Propiolactone is in vaccines and is known...</td>\n",
       "    </tr>\n",
       "    <tr>\n",
       "      <th>freq</th>\n",
       "      <td>629</td>\n",
       "      <td>1</td>\n",
       "      <td>3</td>\n",
       "    </tr>\n",
       "  </tbody>\n",
       "</table>\n",
       "</div>"
      ],
      "text/plain": [
       "       label                                              claim  \\\n",
       "count   1215                                               1219   \n",
       "unique     5                                               1219   \n",
       "top     true  Georgia could be first state to test Trump hea...   \n",
       "freq     629                                                  1   \n",
       "\n",
       "                                                main_text  \n",
       "count                                                1217  \n",
       "unique                                               1212  \n",
       "top     Beta-Propiolactone is in vaccines and is known...  \n",
       "freq                                                    3  "
      ]
     },
     "execution_count": 6,
     "metadata": {},
     "output_type": "execute_result"
    }
   ],
   "source": [
    "dev_df.describe()"
   ]
  },
  {
   "cell_type": "code",
   "execution_count": 7,
   "id": "809b88a6",
   "metadata": {},
   "outputs": [
    {
     "data": {
      "text/html": [
       "<div>\n",
       "<style scoped>\n",
       "    .dataframe tbody tr th:only-of-type {\n",
       "        vertical-align: middle;\n",
       "    }\n",
       "\n",
       "    .dataframe tbody tr th {\n",
       "        vertical-align: top;\n",
       "    }\n",
       "\n",
       "    .dataframe thead th {\n",
       "        text-align: right;\n",
       "    }\n",
       "</style>\n",
       "<table border=\"1\" class=\"dataframe\">\n",
       "  <thead>\n",
       "    <tr style=\"text-align: right;\">\n",
       "      <th></th>\n",
       "      <th>label</th>\n",
       "      <th>claim</th>\n",
       "      <th>main_text</th>\n",
       "    </tr>\n",
       "  </thead>\n",
       "  <tbody>\n",
       "    <tr>\n",
       "      <th>count</th>\n",
       "      <td>1233</td>\n",
       "      <td>1235</td>\n",
       "      <td>1235</td>\n",
       "    </tr>\n",
       "    <tr>\n",
       "      <th>unique</th>\n",
       "      <td>4</td>\n",
       "      <td>1235</td>\n",
       "      <td>1231</td>\n",
       "    </tr>\n",
       "    <tr>\n",
       "      <th>top</th>\n",
       "      <td>true</td>\n",
       "      <td>Today’s marijuana is 300 percent to 800 percen...</td>\n",
       "      <td>US-Patent 8835624 is for the H1N1 virus. The p...</td>\n",
       "    </tr>\n",
       "    <tr>\n",
       "      <th>freq</th>\n",
       "      <td>599</td>\n",
       "      <td>1</td>\n",
       "      <td>2</td>\n",
       "    </tr>\n",
       "  </tbody>\n",
       "</table>\n",
       "</div>"
      ],
      "text/plain": [
       "       label                                              claim  \\\n",
       "count   1233                                               1235   \n",
       "unique     4                                               1235   \n",
       "top     true  Today’s marijuana is 300 percent to 800 percen...   \n",
       "freq     599                                                  1   \n",
       "\n",
       "                                                main_text  \n",
       "count                                                1235  \n",
       "unique                                               1231  \n",
       "top     US-Patent 8835624 is for the H1N1 virus. The p...  \n",
       "freq                                                    2  "
      ]
     },
     "execution_count": 7,
     "metadata": {},
     "output_type": "execute_result"
    }
   ],
   "source": [
    "test_df.describe()"
   ]
  },
  {
   "cell_type": "markdown",
   "id": "07cfbb85",
   "metadata": {},
   "source": [
    "**From data describe, we need to perform the following data processing tasks.**\n",
    "\n",
    "1.Drop data with missing value for \"label\" and \"main_text\".\n",
    "\n",
    "2.Check why there are 5 labels for train and dev.\n",
    "\n",
    "3.Derive the labels distribution."
   ]
  },
  {
   "cell_type": "code",
   "execution_count": 8,
   "id": "3264fdbf",
   "metadata": {},
   "outputs": [],
   "source": [
    "#1. Drop missing value\n",
    "train_df = train_df.dropna()\n",
    "dev_df = dev_df.dropna()\n",
    "test_df = test_df.dropna()"
   ]
  },
  {
   "cell_type": "code",
   "execution_count": 9,
   "id": "c5458731",
   "metadata": {},
   "outputs": [
    {
     "name": "stdout",
     "output_type": "stream",
     "text": [
      "['false' 'mixture' 'true' 'unproven' 'snopes']\n",
      "['unproven' 'true' 'false' 'mixture'\n",
      " 'National, Candidate Biography, Donald Trump, ']\n"
     ]
    }
   ],
   "source": [
    "#2. Check labels outlier\n",
    "print(train_df.label.unique())\n",
    "print(dev_df.label.unique())"
   ]
  },
  {
   "cell_type": "code",
   "execution_count": 10,
   "id": "9c52f016",
   "metadata": {},
   "outputs": [
    {
     "data": {
      "text/html": [
       "<div>\n",
       "<style scoped>\n",
       "    .dataframe tbody tr th:only-of-type {\n",
       "        vertical-align: middle;\n",
       "    }\n",
       "\n",
       "    .dataframe tbody tr th {\n",
       "        vertical-align: top;\n",
       "    }\n",
       "\n",
       "    .dataframe thead th {\n",
       "        text-align: right;\n",
       "    }\n",
       "</style>\n",
       "<table border=\"1\" class=\"dataframe\">\n",
       "  <thead>\n",
       "    <tr style=\"text-align: right;\">\n",
       "      <th></th>\n",
       "      <th>label</th>\n",
       "      <th>claim</th>\n",
       "      <th>main_text</th>\n",
       "    </tr>\n",
       "  </thead>\n",
       "  <tbody>\n",
       "    <tr>\n",
       "      <th>6655</th>\n",
       "      <td>snopes</td>\n",
       "      <td>Bethania Palma</td>\n",
       "      <td>Politics, COVID-19</td>\n",
       "    </tr>\n",
       "  </tbody>\n",
       "</table>\n",
       "</div>"
      ],
      "text/plain": [
       "       label           claim           main_text\n",
       "6655  snopes  Bethania Palma  Politics, COVID-19"
      ]
     },
     "execution_count": 10,
     "metadata": {},
     "output_type": "execute_result"
    }
   ],
   "source": [
    "train_df[train_df.label == 'snopes']"
   ]
  },
  {
   "cell_type": "code",
   "execution_count": 11,
   "id": "b0fe99de",
   "metadata": {},
   "outputs": [
    {
     "data": {
      "text/plain": [
       "label                                                    false\n",
       "claim        \"The money the Clinton Foundation took from fr...\n",
       "main_text    \"Hillary Clinton is in the political crosshair...\n",
       "Name: 0, dtype: object"
      ]
     },
     "execution_count": 11,
     "metadata": {},
     "output_type": "execute_result"
    }
   ],
   "source": [
    "train_df.iloc[0]"
   ]
  },
  {
   "cell_type": "code",
   "execution_count": 12,
   "id": "238a9efb",
   "metadata": {},
   "outputs": [
    {
     "data": {
      "text/html": [
       "<div>\n",
       "<style scoped>\n",
       "    .dataframe tbody tr th:only-of-type {\n",
       "        vertical-align: middle;\n",
       "    }\n",
       "\n",
       "    .dataframe tbody tr th {\n",
       "        vertical-align: top;\n",
       "    }\n",
       "\n",
       "    .dataframe thead th {\n",
       "        text-align: right;\n",
       "    }\n",
       "</style>\n",
       "<table border=\"1\" class=\"dataframe\">\n",
       "  <thead>\n",
       "    <tr style=\"text-align: right;\">\n",
       "      <th></th>\n",
       "      <th>label</th>\n",
       "      <th>claim</th>\n",
       "      <th>main_text</th>\n",
       "    </tr>\n",
       "  </thead>\n",
       "  <tbody>\n",
       "    <tr>\n",
       "      <th>17</th>\n",
       "      <td>National, Candidate Biography, Donald Trump,</td>\n",
       "      <td>November 29, 2017</td>\n",
       "      <td>https://twitter.com/JoeNBC/status/935879100262...</td>\n",
       "    </tr>\n",
       "  </tbody>\n",
       "</table>\n",
       "</div>"
      ],
      "text/plain": [
       "                                            label              claim  \\\n",
       "17  National, Candidate Biography, Donald Trump,   November 29, 2017   \n",
       "\n",
       "                                            main_text  \n",
       "17  https://twitter.com/JoeNBC/status/935879100262...  "
      ]
     },
     "execution_count": 12,
     "metadata": {},
     "output_type": "execute_result"
    }
   ],
   "source": [
    "dev_df[dev_df.label == 'National, Candidate Biography, Donald Trump, ']"
   ]
  },
  {
   "cell_type": "code",
   "execution_count": 13,
   "id": "1932fd6d",
   "metadata": {},
   "outputs": [],
   "source": [
    "# Only keep records with correct labels\n",
    "train_df = train_df[(train_df.label == 'unproven') | (train_df.label == 'true') |\n",
    "                    (train_df.label == 'mixture') | (train_df.label == 'false')]\n",
    "dev_df = dev_df[(dev_df.label == 'unproven') | (dev_df.label == 'true') |\n",
    "                    (dev_df.label == 'mixture') | (dev_df.label == 'false')]"
   ]
  },
  {
   "cell_type": "code",
   "execution_count": 14,
   "id": "02570cc2",
   "metadata": {},
   "outputs": [],
   "source": [
    "# 3. Draw the distribution of labels"
   ]
  },
  {
   "cell_type": "code",
   "execution_count": 15,
   "id": "4b61a89a",
   "metadata": {},
   "outputs": [
    {
     "data": {
      "text/plain": [
       "Text(0.5, 1.0, 'test')"
      ]
     },
     "execution_count": 15,
     "metadata": {},
     "output_type": "execute_result"
    },
    {
     "data": {
      "image/png": "[encoded data removed]",
      "text/plain": [
       "<Figure size 1152x360 with 3 Axes>"
      ]
     },
     "metadata": {},
     "output_type": "display_data"
    }
   ],
   "source": [
    "import seaborn as sns\n",
    "import matplotlib.pyplot as plt\n",
    "labels = ['false', 'mixture', 'true', 'unproven']\n",
    "sns.set_theme(style=\"darkgrid\")\n",
    "fig, ax = plt.subplots(1,3,constrained_layout=True, figsize=(16, 5))\n",
    "axesSub = sns.countplot(x=\"label\", data=train_df, ax=ax[0], order=labels)\n",
    "axesSub.set_title('train')\n",
    "axesSub = sns.countplot(x=\"label\", data=dev_df, ax=ax[1], order=labels)\n",
    "axesSub.set_title('dev')\n",
    "axesSub = sns.countplot(x=\"label\", data=test_df, ax=ax[2], order=labels)\n",
    "axesSub.set_title('test')"
   ]
  },
  {
   "cell_type": "markdown",
   "id": "52eb860d",
   "metadata": {},
   "source": [
    "**We can see the labels are not balanced but the distribution among train, dev, test are the same.**\n",
    "\n",
    "**Since the labels are not balanced , we should use metrics like marco-F1 for evalation.**"
   ]
  },
  {
   "cell_type": "code",
   "execution_count": 17,
   "id": "80aed259",
   "metadata": {},
   "outputs": [],
   "source": [
    "# save the clean data\n",
    "train_df.to_csv('../Data/clean_train.tsv', sep='\\t', index=False)\n",
    "dev_df.to_csv('../Data/clean_dev.tsv', sep='\\t', index=False)\n",
    "test_df.to_csv('../Data/clean_test.tsv', sep='\\t', index=False)"
   ]
  },
  {
   "cell_type": "code",
   "execution_count": null,
   "id": "940d9e02",
   "metadata": {},
   "outputs": [],
   "source": []
  }
 ],
 "metadata": {
  "kernelspec": {
   "display_name": "Python 3",
   "language": "python",
   "name": "python3"
  },
  "language_info": {
   "codemirror_mode": {
    "name": "ipython",
    "version": 3
   },
   "file_extension": ".py",
   "mimetype": "text/x-python",
   "name": "python",
   "nbconvert_exporter": "python",
   "pygments_lexer": "ipython3",
   "version": "3.8.8"
  }
 },
 "nbformat": 4,
 "nbformat_minor": 5
}
